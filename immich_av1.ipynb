{
 "cells": [
  {
   "cell_type": "code",
   "execution_count": null,
   "id": "f82ef2d6",
   "metadata": {},
   "outputs": [],
   "source": [
    "# !pip install dotenv"
   ]
  },
  {
   "cell_type": "code",
   "execution_count": 17,
   "id": "ed842cc4",
   "metadata": {},
   "outputs": [
    {
     "data": {
      "text/plain": [
       "True"
      ]
     },
     "execution_count": 17,
     "metadata": {},
     "output_type": "execute_result"
    }
   ],
   "source": [
    "import os\n",
    "from dotenv import load_dotenv\n",
    "import subprocess\n",
    "\n",
    "\n",
    "load_dotenv()"
   ]
  },
  {
   "cell_type": "code",
   "execution_count": 20,
   "id": "3120e36e",
   "metadata": {},
   "outputs": [],
   "source": [
    "# Load secrets from .env\n",
    "SECRET_KEY = os.getenv(\"SECRET_KEY\")\n",
    "IMMICH_API_KEY = os.getenv(\"IMMICH_API_KEY\")\n",
    "IMMICH_UPLOAD_URL = str(os.getenv(\"IMMICH_UPLOAD_URL\"))\n",
    "SERVER_ADDRESS = str(os.getenv(\"SERVER_ADDRESS\"))\n",
    "SSH_KEY_LOC = os.getenv(\"SSH_KEY_LOC\")\n",
    "\n",
    "TMP_DIR = \"./tmp\""
   ]
  },
  {
   "cell_type": "code",
   "execution_count": null,
   "id": "58826823",
   "metadata": {},
   "outputs": [],
   "source": [
    "remote_root = f\"{SERVER_ADDRESS}:/zstorage/surveillance_video\"\n",
    "\n",
    "video_name = \"20251023_101552_clip_02983_1.mp4\"\n",
    "\n",
    "remote_filename = f\"{remote_root}/{video_name}\"\n",
    "local_filename = f\"{TMP_DIR}/{video_name}\"\n",
    "\n",
    "cmd = [\"scp\", remote_filename, local_filename, \"-i\", SSH_KEY_LOC]\n",
    "\n",
    "print(cmd)\n",
    "subprocess.run(cmd)\n",
    "\n",
    "# Step 2: delete from remote\n",
    "# subprocess.run([\"ssh\", \"user@yourserver\", \"rm\", \"/path/to/video.mp4\"])\n"
   ]
  },
  {
   "cell_type": "code",
   "execution_count": null,
   "id": "cded03a5",
   "metadata": {},
   "outputs": [],
   "source": []
  }
 ],
 "metadata": {
  "kernelspec": {
   "display_name": ".venv",
   "language": "python",
   "name": "python3"
  },
  "language_info": {
   "codemirror_mode": {
    "name": "ipython",
    "version": 3
   },
   "file_extension": ".py",
   "mimetype": "text/x-python",
   "name": "python",
   "nbconvert_exporter": "python",
   "pygments_lexer": "ipython3",
   "version": "3.10.11"
  }
 },
 "nbformat": 4,
 "nbformat_minor": 5
}
