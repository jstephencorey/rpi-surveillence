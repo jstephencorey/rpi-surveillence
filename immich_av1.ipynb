{
 "cells": [
  {
   "cell_type": "code",
   "execution_count": 53,
   "id": "f82ef2d6",
   "metadata": {},
   "outputs": [],
   "source": [
    "# !pip install dotenv\n",
    "# !pip install paramiko\n",
    "# !pip install fabric\n",
    "# !pip install pytz"
   ]
  },
  {
   "cell_type": "code",
   "execution_count": 54,
   "id": "ed842cc4",
   "metadata": {},
   "outputs": [
    {
     "data": {
      "text/plain": [
       "True"
      ]
     },
     "execution_count": 54,
     "metadata": {},
     "output_type": "execute_result"
    }
   ],
   "source": [
    "import os\n",
    "from dotenv import load_dotenv\n",
    "import subprocess\n",
    "import re\n",
    "import pytz\n",
    "from datetime import datetime\n",
    "from fabric import Connection\n",
    "import requests\n",
    "from pathlib import Path\n",
    "\n",
    "load_dotenv()"
   ]
  },
  {
   "cell_type": "code",
   "execution_count": 64,
   "id": "3120e36e",
   "metadata": {},
   "outputs": [],
   "source": [
    "# Load secrets from .env\n",
    "IMMICH_API_KEY = os.getenv(\"IMMICH_API_KEY\")\n",
    "IMMICH_UPLOAD_URL = str(os.getenv(\"IMMICH_UPLOAD_URL\"))\n",
    "SERVER_ADDRESS = str(os.getenv(\"SERVER_ADDRESS\"))\n",
    "SERVER_USERNAME = str(os.getenv(\"SERVER_USERNAME\"))\n",
    "SERVER_PASSWORD = str(os.getenv(\"SERVER_PASSWORD\"))\n",
    "\n",
    "TMP_DIR = \"./tmp\"\n",
    "REMOTE_ROOT = f\"/zstorage/surveillance_video\"\n",
    "HIGH_QUALITY = \"30\"\n",
    "LOW_QUALITY = \"37\" #Found through testing to be a good balance of size and not losing fidelity\n",
    "\n",
    "DEVICE_ID = \"living_room_rpi_cam\"\n"
   ]
  },
  {
   "cell_type": "code",
   "execution_count": 65,
   "id": "7bbd5e92",
   "metadata": {},
   "outputs": [
    {
     "name": "stdout",
     "output_type": "stream",
     "text": [
      "Connected to: jserver\n"
     ]
    }
   ],
   "source": [
    "\n",
    "# Create a connection using password authentication\n",
    "conn = Connection(\n",
    "    host=SERVER_ADDRESS,\n",
    "    user=SERVER_USERNAME,\n",
    "    connect_kwargs={\n",
    "        \"password\": SERVER_PASSWORD\n",
    "    }\n",
    ")\n",
    "\n",
    "# Verify it works\n",
    "result = conn.run(\"hostname\", hide=True)\n",
    "print(\"Connected to:\", result.stdout.strip())\n"
   ]
  },
  {
   "cell_type": "code",
   "execution_count": 66,
   "id": "58826823",
   "metadata": {},
   "outputs": [],
   "source": [
    "def convert_file(local_filepath):\n",
    "    av1_filename = os.path.basename(local_filepath).split(\".\")[0] + \".mkv\"\n",
    "    av1_filepath = f\"{TMP_DIR}/{av1_filename}\"\n",
    "    assert not os.path.exists(av1_filepath)\n",
    "\n",
    "    cmd = [\n",
    "        \"ffmpeg\",\n",
    "        \"-hwaccel\", \"cuda\",\n",
    "        \"-i\", local_filepath,\n",
    "        \"-c:v\", \"av1_nvenc\",\n",
    "        \"-preset\", 'p7',\n",
    "        \"-cq\", LOW_QUALITY,\n",
    "        \"-c:a\", \"copy\",\n",
    "        av1_filepath\n",
    "    ]\n",
    "\n",
    "    subprocess.run(cmd, check=True)\n",
    "    return av1_filepath"
   ]
  },
  {
   "cell_type": "code",
   "execution_count": 68,
   "id": "f62d990e",
   "metadata": {},
   "outputs": [],
   "source": [
    "def send_image_to_immich(video_filepath):\n",
    "    print(\"beginning to process the request\")\n",
    "    video_filename = Path(video_filepath).name\n",
    "    print(video_filename)\n",
    "    stats = os.stat(video_filepath)\n",
    "    with open(video_filepath, 'rb') as f:\n",
    "        headers = {'x-api-key': IMMICH_API_KEY}\n",
    "        tz = pytz.timezone(os.getenv(\"TIMEZONE\", \"America/Denver\"))\n",
    "        files = {'assetData': f}\n",
    "        file_modified_at_timestamp = datetime.fromtimestamp(stats.st_mtime, tz).isoformat()\n",
    "        file_created_at_timestamp = datetime.fromtimestamp(stats.st_ctime, tz).isoformat()\n",
    "        print(file_modified_at_timestamp)\n",
    "\n",
    "        data = {\n",
    "            'deviceId': DEVICE_ID,\n",
    "            'deviceAssetId': video_filename,\n",
    "            'fileCreatedAt': file_created_at_timestamp,\n",
    "            'fileModifiedAt': file_modified_at_timestamp\n",
    "        }\n",
    "        print(f\"Uploading video to Immich with deviceAssetId: {video_filename}\")\n",
    "        response = requests.post(IMMICH_UPLOAD_URL, files=files, data=data, headers=headers)\n",
    "        response.raise_for_status()\n",
    "        print(f\"Upload response code: {response.status_code}\")\n",
    "        print(response.json())\n",
    "        if response.json()['status'] != 'created':\n",
    "            print(\"Something went wrong!\")\n",
    "            raise RuntimeError()\n",
    "        else:\n",
    "            return True\n"
   ]
  },
  {
   "cell_type": "code",
   "execution_count": null,
   "id": "e3ba4644",
   "metadata": {},
   "outputs": [
    {
     "name": "stdout",
     "output_type": "stream",
     "text": [
      "Found 32 video(s):\n",
      "Downloading 20251023_222849_clip_04925_1.mp4...\n",
      "Moved 20251023_222849_clip_04925_1.mp4\n",
      "Converting file\n",
      "File converted, now uploading\n",
      "beginning to process the request\n",
      "20251023_222849_clip_04925_1.mkv\n",
      "2025-10-23T23:14:52.689061-06:00\n",
      "Uploading video to Immich with deviceAssetId: 20251023_222849_clip_04925_1.mkv\n",
      "Upload response code: 201\n",
      "{'id': '8dfacd71-f9e1-4117-a129-b73a6121f721', 'status': 'created'}\n",
      "✅ Done!\n",
      "\n",
      "Downloading 20251023_222959_clip_04928_1.mp4...\n",
      "Moved 20251023_222959_clip_04928_1.mp4\n",
      "Converting file\n",
      "File converted, now uploading\n",
      "beginning to process the request\n",
      "20251023_222959_clip_04928_1.mkv\n",
      "2025-10-23T23:15:04.307662-06:00\n",
      "Uploading video to Immich with deviceAssetId: 20251023_222959_clip_04928_1.mkv\n",
      "Upload response code: 201\n",
      "{'id': '56f0099e-d0eb-4ee1-a1e6-fd558663d68f', 'status': 'created'}\n",
      "✅ Done!\n",
      "\n",
      "Downloading 20251023_223109_clip_04931_1.mp4...\n",
      "Moved 20251023_223109_clip_04931_1.mp4\n",
      "Converting file\n",
      "File converted, now uploading\n",
      "beginning to process the request\n",
      "20251023_223109_clip_04931_1.mkv\n",
      "2025-10-23T23:15:15.626179-06:00\n",
      "Uploading video to Immich with deviceAssetId: 20251023_223109_clip_04931_1.mkv\n",
      "Upload response code: 201\n",
      "{'id': 'b213247d-aed5-4c5d-9dd0-f856f6b1710e', 'status': 'created'}\n",
      "✅ Done!\n",
      "\n",
      "Downloading 20251023_223215_clip_04934_1.mp4...\n",
      "Moved 20251023_223215_clip_04934_1.mp4\n",
      "Converting file\n",
      "File converted, now uploading\n",
      "beginning to process the request\n",
      "20251023_223215_clip_04934_1.mkv\n",
      "2025-10-23T23:15:25.026549-06:00\n",
      "Uploading video to Immich with deviceAssetId: 20251023_223215_clip_04934_1.mkv\n",
      "Upload response code: 201\n",
      "{'id': '36db8b2a-6f8f-4003-9abc-12a621d06556', 'status': 'created'}\n",
      "✅ Done!\n",
      "\n",
      "Downloading 20251023_223330_clip_04937_1.mp4...\n",
      "Moved 20251023_223330_clip_04937_1.mp4\n",
      "Converting file\n",
      "File converted, now uploading\n",
      "beginning to process the request\n",
      "20251023_223330_clip_04937_1.mkv\n",
      "2025-10-23T23:15:35.367512-06:00\n",
      "Uploading video to Immich with deviceAssetId: 20251023_223330_clip_04937_1.mkv\n",
      "Upload response code: 201\n",
      "{'id': '688ee9a5-b7e4-4c69-a6ee-a72e61754652', 'status': 'created'}\n",
      "✅ Done!\n",
      "\n",
      "Downloading 20251023_223406_clip_04941_1.mp4...\n",
      "Moved 20251023_223406_clip_04941_1.mp4\n",
      "Converting file\n",
      "File converted, now uploading\n",
      "beginning to process the request\n",
      "20251023_223406_clip_04941_1.mkv\n",
      "2025-10-23T23:15:40.964443-06:00\n",
      "Uploading video to Immich with deviceAssetId: 20251023_223406_clip_04941_1.mkv\n",
      "Upload response code: 201\n",
      "{'id': 'e2a39709-c337-429b-9d37-c1b6aed51837', 'status': 'created'}\n",
      "✅ Done!\n",
      "\n",
      "Downloading 20251023_223536_clip_04945_1.mp4...\n",
      "Moved 20251023_223536_clip_04945_1.mp4\n",
      "Converting file\n",
      "File converted, now uploading\n",
      "beginning to process the request\n",
      "20251023_223536_clip_04945_1.mkv\n",
      "2025-10-23T23:15:44.562001-06:00\n",
      "Uploading video to Immich with deviceAssetId: 20251023_223536_clip_04945_1.mkv\n",
      "Upload response code: 201\n",
      "{'id': '636e64b7-13a9-488c-88ff-771dc9fb3022', 'status': 'created'}\n",
      "✅ Done!\n",
      "\n",
      "Downloading 20251023_223622_clip_04947_1.mp4...\n",
      "Moved 20251023_223622_clip_04947_1.mp4\n",
      "Converting file\n",
      "File converted, now uploading\n",
      "beginning to process the request\n",
      "20251023_223622_clip_04947_1.mkv\n",
      "2025-10-23T23:15:48.160641-06:00\n",
      "Uploading video to Immich with deviceAssetId: 20251023_223622_clip_04947_1.mkv\n",
      "Upload response code: 201\n",
      "{'id': 'fb94b48f-f31c-446b-aa5d-10042a227f46', 'status': 'created'}\n",
      "✅ Done!\n",
      "\n",
      "Downloading 20251023_223706_clip_04949_1.mp4...\n",
      "Moved 20251023_223706_clip_04949_1.mp4\n",
      "Converting file\n",
      "File converted, now uploading\n",
      "beginning to process the request\n",
      "20251023_223706_clip_04949_1.mkv\n",
      "2025-10-23T23:15:51.679490-06:00\n",
      "Uploading video to Immich with deviceAssetId: 20251023_223706_clip_04949_1.mkv\n",
      "Upload response code: 201\n",
      "{'id': '3a9a09d8-0bd9-44b8-b252-149cbfb7494e', 'status': 'created'}\n",
      "✅ Done!\n",
      "\n",
      "Downloading 20251023_223751_clip_04951_1.mp4...\n",
      "Moved 20251023_223751_clip_04951_1.mp4\n",
      "Converting file\n"
     ]
    }
   ],
   "source": [
    "# === List all .mp4 files in the remote directory ===\n",
    "result = conn.run(f\"ls {REMOTE_ROOT}/*.mp4\", hide=True, warn=True)\n",
    "remote_files = result.stdout.strip().splitlines()\n",
    "# print(remote_files)\n",
    "\n",
    "if result.failed or not result.stdout.strip():\n",
    "    print(\"No .mp4 files found in remote directory.\")\n",
    "else:\n",
    "    remote_files = result.stdout.strip().splitlines()\n",
    "\n",
    "    print(f\"Found {len(remote_files)} video(s):\")\n",
    "    for remote_filepath in remote_files:\n",
    "        video_name = os.path.basename(remote_filepath)\n",
    "        local_filepath = os.path.join(TMP_DIR, video_name)\n",
    "\n",
    "        print(f\"Downloading {video_name}...\")\n",
    "\n",
    "        # Download file\n",
    "        conn.get(remote_filepath, local_filepath)\n",
    "\n",
    "        # Delete original\n",
    "        conn.run(f\"rm {remote_filepath}\", hide=True)\n",
    "\n",
    "        print(f\"Moved {video_name}\")\n",
    "        print(\"Converting file\")\n",
    "        av1_filepath = convert_file(local_filepath)\n",
    "\n",
    "        print(\"File converted, now uploading\")\n",
    "        success = send_image_to_immich(av1_filepath)\n",
    "        if success == True:\n",
    "            os.remove(local_filepath)\n",
    "        else:\n",
    "            raise RuntimeError()\n",
    "        print(\"✅ Done!\\n\")\n",
    "        # break\n",
    "# 270ish videos is 31 mins\n",
    "# 32 vids is "
   ]
  },
  {
   "cell_type": "code",
   "execution_count": null,
   "id": "21009bd1",
   "metadata": {},
   "outputs": [
    {
     "data": {
      "text/plain": [
       "CompletedProcess(args=['ffmpeg', '-hwaccel', 'cuda', '-i', './tmp/20251022_165042_clip_03709_1.mp4', '-c:v', 'av1_nvenc', '-preset', 'p7', '-cq', '37', '-c:a', 'copy', './tmp/20251022_165042_clip_03709_1.mkv'], returncode=0)"
      ]
     },
     "execution_count": 49,
     "metadata": {},
     "output_type": "execute_result"
    }
   ],
   "source": []
  },
  {
   "cell_type": "code",
   "execution_count": null,
   "id": "cded03a5",
   "metadata": {},
   "outputs": [
    {
     "name": "stdout",
     "output_type": "stream",
     "text": [
      "beginning to process the request\n",
      "20251022_165042_clip_03709_1.mkv\n",
      "2025-10-23T22:07:13.411836-06:00\n",
      "Uploading video to Immich with deviceAssetId: 20251022_165042_clip_03709_1.mkv\n",
      "Upload response code: 200\n",
      "{'status': 'duplicate', 'id': '6ffb4546-95ff-4c7d-90c9-e828b5e208af'}\n",
      "Something went wrong!\n",
      "Error during send_image_to_immich\n"
     ]
    }
   ],
   "source": [
    "\n",
    "        \n",
    "send_image_to_immich(av1_filepath)"
   ]
  },
  {
   "cell_type": "code",
   "execution_count": null,
   "id": "108fedbf",
   "metadata": {},
   "outputs": [],
   "source": []
  }
 ],
 "metadata": {
  "kernelspec": {
   "display_name": ".venv",
   "language": "python",
   "name": "python3"
  },
  "language_info": {
   "codemirror_mode": {
    "name": "ipython",
    "version": 3
   },
   "file_extension": ".py",
   "mimetype": "text/x-python",
   "name": "python",
   "nbconvert_exporter": "python",
   "pygments_lexer": "ipython3",
   "version": "3.10.11"
  }
 },
 "nbformat": 4,
 "nbformat_minor": 5
}
