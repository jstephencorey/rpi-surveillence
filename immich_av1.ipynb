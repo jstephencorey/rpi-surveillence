{
 "cells": [
  {
   "cell_type": "code",
   "execution_count": null,
   "id": "f82ef2d6",
   "metadata": {},
   "outputs": [],
   "source": [
    "# !pip install dotenv\n",
    "# !pip install paramiko\n",
    "# !pip install fabric\n",
    "# !pip install pytz"
   ]
  },
  {
   "cell_type": "code",
   "execution_count": 45,
   "id": "ed842cc4",
   "metadata": {},
   "outputs": [
    {
     "data": {
      "text/plain": [
       "True"
      ]
     },
     "execution_count": 45,
     "metadata": {},
     "output_type": "execute_result"
    }
   ],
   "source": [
    "import os\n",
    "from dotenv import load_dotenv\n",
    "import subprocess\n",
    "import re\n",
    "import pytz\n",
    "from datetime import datetime\n",
    "from fabric import Connection\n",
    "import requests\n",
    "from pathlib import Path\n",
    "\n",
    "\n",
    "load_dotenv()"
   ]
  },
  {
   "cell_type": "code",
   "execution_count": 25,
   "id": "3120e36e",
   "metadata": {},
   "outputs": [],
   "source": [
    "# Load secrets from .env\n",
    "SECRET_KEY = os.getenv(\"SECRET_KEY\")\n",
    "IMMICH_API_KEY = os.getenv(\"IMMICH_API_KEY\")\n",
    "IMMICH_UPLOAD_URL = str(os.getenv(\"IMMICH_UPLOAD_URL\"))\n",
    "SERVER_ADDRESS = str(os.getenv(\"SERVER_ADDRESS\"))\n",
    "SERVER_USERNAME = str(os.getenv(\"SERVER_USERNAME\"))\n",
    "SERVER_PASSWORD = str(os.getenv(\"SERVER_PASSWORD\"))\n",
    "# SSH_KEY_LOC = os.getenv(\"SSH_KEY_LOC\")\n",
    "\n",
    "TMP_DIR = \"./tmp\""
   ]
  },
  {
   "cell_type": "code",
   "execution_count": null,
   "id": "7bbd5e92",
   "metadata": {},
   "outputs": [
    {
     "name": "stdout",
     "output_type": "stream",
     "text": [
      "Connected to: jserver\n"
     ]
    }
   ],
   "source": [
    "\n",
    "# Create a connection using password authentication\n",
    "conn = Connection(\n",
    "    host=\"192.168.0.61\",\n",
    "    user=\"jstephencorey\",\n",
    "    connect_kwargs={\n",
    "        \"password\": SERVER_PASSWORD\n",
    "    }\n",
    ")\n",
    "\n",
    "# Verify it works\n",
    "result = conn.run(\"hostname\", hide=True)\n",
    "print(\"Connected to:\", result.stdout.strip())\n"
   ]
  },
  {
   "cell_type": "code",
   "execution_count": 48,
   "id": "58826823",
   "metadata": {},
   "outputs": [
    {
     "name": "stdout",
     "output_type": "stream",
     "text": [
      "File moved successfully!\n"
     ]
    }
   ],
   "source": [
    "remote_root = f\"/zstorage/surveillance_video\"\n",
    "\n",
    "video_name = \"20251022_165042_clip_03709_1.mp4\"\n",
    "\n",
    "remote_filepath = f\"{remote_root}/{video_name}\"\n",
    "local_filepath = f\"{TMP_DIR}/{video_name}\"\n",
    "\n",
    "# Download (copy)\n",
    "conn.get(remote_filepath, local_filepath)\n",
    "\n",
    "# Delete the original (move)\n",
    "conn.run(f\"rm {remote_filepath}\")\n",
    "\n",
    "print(\"File moved successfully!\")\n"
   ]
  },
  {
   "cell_type": "code",
   "execution_count": 49,
   "id": "21009bd1",
   "metadata": {},
   "outputs": [
    {
     "data": {
      "text/plain": [
       "CompletedProcess(args=['ffmpeg', '-hwaccel', 'cuda', '-i', './tmp/20251022_165042_clip_03709_1.mp4', '-c:v', 'av1_nvenc', '-preset', 'p7', '-cq', '37', '-c:a', 'copy', './tmp/20251022_165042_clip_03709_1.mkv'], returncode=0)"
      ]
     },
     "execution_count": 49,
     "metadata": {},
     "output_type": "execute_result"
    }
   ],
   "source": [
    "av1_filename = video_name.split(\".\")[0] + \".mkv\"\n",
    "av1_filepath = f\"{TMP_DIR}/{av1_filename}\"\n",
    "assert not os.path.exists(av1_filepath)\n",
    "HIGH_QUALITY = \"30\"\n",
    "LOW_QUALITY = \"37\" #Found through testing to be a good balance of size and not losing fidelity\n",
    "\n",
    "cmd = [\n",
    "    \"ffmpeg\",\n",
    "    \"-hwaccel\", \"cuda\",\n",
    "    \"-i\", local_filepath,\n",
    "    \"-c:v\", \"av1_nvenc\",\n",
    "    \"-preset\", 'p7',\n",
    "    \"-cq\", LOW_QUALITY,\n",
    "    \"-c:a\", \"copy\",\n",
    "    av1_filepath\n",
    "]\n",
    "\n",
    "subprocess.run(cmd, check=True)"
   ]
  },
  {
   "cell_type": "code",
   "execution_count": 50,
   "id": "f7c31721",
   "metadata": {},
   "outputs": [
    {
     "data": {
      "text/plain": [
       "'2025-10-23T21:21:37-06:00'"
      ]
     },
     "execution_count": 50,
     "metadata": {},
     "output_type": "execute_result"
    }
   ],
   "source": [
    "def get_iso8601_zoned_timestamp():\n",
    "    tz = pytz.timezone(os.getenv(\"TIMEZONE\", \"America/Denver\"))  # fallback to Mountain Time\n",
    "    now = datetime.now(tz)\n",
    "    return now.isoformat()\n",
    "\n",
    "def extract_iso8601_from_filename(filename):\n",
    "    match = re.search(r\"(\\d{8}_\\d{6})\", filename)\n",
    "    if not match:\n",
    "        print(\"NOTE: BAD DATE EXTRACTION STUFF, RETURNING CURRENT TIME\")\n",
    "        return get_iso8601_zoned_timestamp()\n",
    "    timestamp_str = match.group(1)\n",
    "    tz = pytz.timezone(os.getenv(\"TIMEZONE\", \"America/Denver\"))\n",
    "    dt = datetime.strptime(timestamp_str, \"%Y%m%d_%H%M%S\")\n",
    "    dt_local = tz.localize(dt)\n",
    "    return dt_local.isoformat()\n",
    "\n",
    "timestamp = \"20251023_212137\"\n",
    "\n",
    "extract_iso8601_from_filename(timestamp)\n",
    "# get_iso8601_zoned_timestamp()"
   ]
  },
  {
   "cell_type": "code",
   "execution_count": 52,
   "id": "cded03a5",
   "metadata": {},
   "outputs": [
    {
     "name": "stdout",
     "output_type": "stream",
     "text": [
      "beginning to process the request\n",
      "20251022_165042_clip_03709_1.mkv\n",
      "2025-10-23T22:07:13.411836-06:00\n",
      "Uploading video to Immich with deviceAssetId: 20251022_165042_clip_03709_1.mkv\n",
      "Upload response code: 200\n",
      "{'status': 'duplicate', 'id': '6ffb4546-95ff-4c7d-90c9-e828b5e208af'}\n",
      "Something went wrong!\n",
      "Error during send_image_to_immich\n"
     ]
    }
   ],
   "source": [
    "DEVICE_ID = \"living_room_rpi_cam\"\n",
    "\n",
    "def send_image_to_immich(video_filepath):\n",
    "    try:\n",
    "        # Expect deviceId in form data\n",
    "        print(\"beginning to process the request\")\n",
    "        video_filename = Path(video_filepath).name\n",
    "        print(video_filename)\n",
    "        stats = os.stat(video_filepath)\n",
    "        with open(video_filepath, 'rb') as f:\n",
    "            headers = {'x-api-key': IMMICH_API_KEY}\n",
    "            tz = pytz.timezone(os.getenv(\"TIMEZONE\", \"America/Denver\"))\n",
    "            files = {'assetData': f}\n",
    "            file_modified_at_timestamp = datetime.fromtimestamp(stats.st_mtime, tz).isoformat()\n",
    "            file_created_at_timestamp = datetime.fromtimestamp(stats.st_ctime, tz).isoformat()\n",
    "            print(file_modified_at_timestamp)\n",
    "\n",
    "            data = {\n",
    "                'deviceId': DEVICE_ID,\n",
    "                'deviceAssetId': video_filename,\n",
    "                'fileCreatedAt': file_created_at_timestamp,\n",
    "                'fileModifiedAt': file_modified_at_timestamp\n",
    "            }\n",
    "            print(f\"Uploading video to Immich with deviceAssetId: {video_filename}\")\n",
    "            response = requests.post(IMMICH_UPLOAD_URL, files=files, data=data, headers=headers)\n",
    "            response.raise_for_status()\n",
    "            print(f\"Upload response code: {response.status_code}\")\n",
    "            print(response.json())\n",
    "            if response.json()['status'] != 'created':\n",
    "                print(\"Something went wrong!\")\n",
    "                raise RuntimeError()\n",
    "    #     return {\"status\": \"success\", \"immich_response\": response.json()}, response.status_code\n",
    "\n",
    "    except Exception as e:\n",
    "        print(\"Error during send_image_to_immich\")\n",
    "        \n",
    "send_image_to_immich(av1_filepath)"
   ]
  },
  {
   "cell_type": "code",
   "execution_count": null,
   "id": "108fedbf",
   "metadata": {},
   "outputs": [],
   "source": []
  }
 ],
 "metadata": {
  "kernelspec": {
   "display_name": ".venv",
   "language": "python",
   "name": "python3"
  },
  "language_info": {
   "codemirror_mode": {
    "name": "ipython",
    "version": 3
   },
   "file_extension": ".py",
   "mimetype": "text/x-python",
   "name": "python",
   "nbconvert_exporter": "python",
   "pygments_lexer": "ipython3",
   "version": "3.10.11"
  }
 },
 "nbformat": 4,
 "nbformat_minor": 5
}
