{
 "cells": [
  {
   "cell_type": "code",
   "execution_count": 1,
   "id": "f82ef2d6",
   "metadata": {},
   "outputs": [],
   "source": [
    "# !pip install dotenv\n",
    "# !pip install paramiko\n",
    "# !pip install fabric\n"
   ]
  },
  {
   "cell_type": "code",
   "execution_count": 2,
   "id": "ed842cc4",
   "metadata": {},
   "outputs": [
    {
     "data": {
      "text/plain": [
       "True"
      ]
     },
     "execution_count": 2,
     "metadata": {},
     "output_type": "execute_result"
    }
   ],
   "source": [
    "import os\n",
    "from dotenv import load_dotenv\n",
    "import subprocess\n",
    "import paramiko\n",
    "\n",
    "\n",
    "load_dotenv()"
   ]
  },
  {
   "cell_type": "code",
   "execution_count": 3,
   "id": "3120e36e",
   "metadata": {},
   "outputs": [],
   "source": [
    "# Load secrets from .env\n",
    "SECRET_KEY = os.getenv(\"SECRET_KEY\")\n",
    "IMMICH_API_KEY = os.getenv(\"IMMICH_API_KEY\")\n",
    "IMMICH_UPLOAD_URL = str(os.getenv(\"IMMICH_UPLOAD_URL\"))\n",
    "SERVER_ADDRESS = str(os.getenv(\"SERVER_ADDRESS\"))\n",
    "SERVER_USERNAME = str(os.getenv(\"SERVER_USERNAME\"))\n",
    "SERVER_PASSWORD = str(os.getenv(\"SERVER_PASSWORD\"))\n",
    "# SSH_KEY_LOC = os.getenv(\"SSH_KEY_LOC\")\n",
    "\n",
    "TMP_DIR = \"./tmp\""
   ]
  },
  {
   "cell_type": "code",
   "execution_count": 4,
   "id": "7bbd5e92",
   "metadata": {},
   "outputs": [
    {
     "name": "stdout",
     "output_type": "stream",
     "text": [
      "Connected to: jserver\n"
     ]
    }
   ],
   "source": [
    "from fabric import Connection\n",
    "\n",
    "# Create a connection using password authentication\n",
    "conn = Connection(\n",
    "    host=\"192.168.0.61\",\n",
    "    user=\"jstephencorey\",\n",
    "    connect_kwargs={\n",
    "        \"password\": SERVER_PASSWORD\n",
    "    }\n",
    ")\n",
    "\n",
    "# Verify it works\n",
    "result = conn.run(\"hostname\", hide=True)\n",
    "print(\"Connected to:\", result.stdout.strip())\n"
   ]
  },
  {
   "cell_type": "code",
   "execution_count": 12,
   "id": "58826823",
   "metadata": {},
   "outputs": [
    {
     "name": "stdout",
     "output_type": "stream",
     "text": [
      "File moved successfully!\n"
     ]
    }
   ],
   "source": [
    "remote_root = f\"/zstorage/surveillance_video\"\n",
    "\n",
    "video_name = \"20251023_151848_clip_03785_1.mp4\"\n",
    "\n",
    "remote_filepath = f\"{remote_root}/{video_name}\"\n",
    "local_filepath = f\"{TMP_DIR}/{video_name}\"\n",
    "\n",
    "# Download (copy)\n",
    "conn.get(remote_filepath, local_filepath)\n",
    "\n",
    "# Delete the original (move)\n",
    "conn.run(f\"rm {remote_filepath}\")\n",
    "\n",
    "print(\"File moved successfully!\")\n"
   ]
  },
  {
   "cell_type": "code",
   "execution_count": 13,
   "id": "21009bd1",
   "metadata": {},
   "outputs": [
    {
     "data": {
      "text/plain": [
       "CompletedProcess(args=['ffmpeg', '-hwaccel', 'cuda', '-i', './tmp/20251023_151848_clip_03785_1.mp4', '-c:v', 'av1_nvenc', '-preset', 'p7', '-cq', '37', '-c:a', 'copy', './tmp/20251023_151848_clip_03785_1.mkv'], returncode=0)"
      ]
     },
     "execution_count": 13,
     "metadata": {},
     "output_type": "execute_result"
    }
   ],
   "source": [
    "import subprocess\n",
    "\n",
    "output_file = video_name.split(\".\")[0] + \".mkv\"\n",
    "output_filepath = f\"{TMP_DIR}/{output_file}\"\n",
    "assert not os.path.exists(output_filepath)\n",
    "HIGH_QUALITY = \"30\"\n",
    "LOW_QUALITY = \"37\" #Found through testing to be a good balance of size and not losing fidelity\n",
    "\n",
    "cmd = [\n",
    "    \"ffmpeg\",\n",
    "    \"-hwaccel\", \"cuda\",\n",
    "    \"-i\", local_filepath,\n",
    "    \"-c:v\", \"av1_nvenc\",\n",
    "    \"-preset\", 'p7',\n",
    "    \"-cq\", LOW_QUALITY,\n",
    "    \"-c:a\", \"copy\",\n",
    "    output_filepath\n",
    "]\n",
    "\n",
    "subprocess.run(cmd, check=True)"
   ]
  },
  {
   "cell_type": "code",
   "execution_count": null,
   "id": "cded03a5",
   "metadata": {},
   "outputs": [],
   "source": []
  }
 ],
 "metadata": {
  "kernelspec": {
   "display_name": ".venv",
   "language": "python",
   "name": "python3"
  },
  "language_info": {
   "codemirror_mode": {
    "name": "ipython",
    "version": 3
   },
   "file_extension": ".py",
   "mimetype": "text/x-python",
   "name": "python",
   "nbconvert_exporter": "python",
   "pygments_lexer": "ipython3",
   "version": "3.10.11"
  }
 },
 "nbformat": 4,
 "nbformat_minor": 5
}
