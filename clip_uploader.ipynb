{
 "cells": [
  {
   "cell_type": "code",
   "execution_count": null,
   "id": "7b6b0e3f",
   "metadata": {},
   "outputs": [],
   "source": [
    "import requests\n",
    "from pathlib import Path\n",
    "\n",
    "SERVER_URL = \"http://192.168.0.61:5002/upload_clip\"\n",
    "# file_path = Path(\"S:\\\\Dev\\\\rpi-surveillence\\\\buffer\\\\clips\\\\clip_00227_1.mp4\")\n",
    "file_path = Path(\"/home/piuser/videos/clips/clip_05485_1.mp4\")\n",
    "with open(file_path, \"rb\") as f:\n",
    "    files = {\"file\": (file_path.name, f, \"video/mp4\")}\n",
    "    print(file_path.name)\n",
    "    response = requests.post(SERVER_URL, files=files, timeout=60)"
   ]
  },
  {
   "cell_type": "code",
   "execution_count": null,
   "id": "1936a3a0",
   "metadata": {},
   "outputs": [],
   "source": []
  }
 ],
 "metadata": {
  "kernelspec": {
   "display_name": ".venv",
   "language": "python",
   "name": "python3"
  },
  "language_info": {
   "codemirror_mode": {
    "name": "ipython",
    "version": 3
   },
   "file_extension": ".py",
   "mimetype": "text/x-python",
   "name": "python",
   "nbconvert_exporter": "python",
   "pygments_lexer": "ipython3",
   "version": "3.10.11"
  }
 },
 "nbformat": 4,
 "nbformat_minor": 5
}
